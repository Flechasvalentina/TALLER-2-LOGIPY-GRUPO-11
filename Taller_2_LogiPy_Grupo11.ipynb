{
 "cells": [
  {
   "cell_type": "code",
   "execution_count": 1,
   "id": "2de2153a",
   "metadata": {},
   "outputs": [
    {
     "name": "stdout",
     "output_type": "stream",
     "text": [
      "✅ Base de datos 'logipy.db' creada con éxito.\n"
     ]
    }
   ],
   "source": [
    "import sqlite3\n",
    "\n",
    "# Conectar (si no existe, se crea automáticamente)\n",
    "conn = sqlite3.connect(\"logipy.db\")\n",
    "cursor = conn.cursor()\n",
    "\n",
    "# Crear la tabla\n",
    "cursor.execute(\"\"\"\n",
    "CREATE TABLE IF NOT EXISTS cotizaciones (\n",
    "    id INTEGER PRIMARY KEY AUTOINCREMENT,\n",
    "    origen TEXT,\n",
    "    destino TEXT,\n",
    "    tipo_envio TEXT,\n",
    "    peso REAL,\n",
    "    distancia REAL,\n",
    "    costo REAL\n",
    ")\n",
    "\"\"\")\n",
    "\n",
    "# Insertar algunos registros de ejemplo\n",
    "cursor.execute(\"INSERT INTO cotizaciones (origen, destino, tipo_envio, peso, distancia, costo) VALUES (?, ?, ?, ?, ?, ?)\",\n",
    "               (\"Bogotá\", \"Medellín\", \"Express\", 10, 400, 300.0))\n",
    "cursor.execute(\"INSERT INTO cotizaciones (origen, destino, tipo_envio, peso, distancia, costo) VALUES (?, ?, ?, ?, ?, ?)\",\n",
    "               (\"Cali\", \"Barranquilla\", \"Económico\", 20, 800, 640.0))\n",
    "\n",
    "# Guardar y cerrar\n",
    "conn.commit()\n",
    "conn.close()\n",
    "\n",
    "print(\"✅ Base de datos 'logipy.db' creada con éxito.\")\n",
    "\n"
   ]
  }
 ],
 "metadata": {
  "kernelspec": {
   "display_name": "Python 3",
   "language": "python",
   "name": "python3"
  },
  "language_info": {
   "codemirror_mode": {
    "name": "ipython",
    "version": 3
   },
   "file_extension": ".py",
   "mimetype": "text/x-python",
   "name": "python",
   "nbconvert_exporter": "python",
   "pygments_lexer": "ipython3",
   "version": "3.13.2"
  }
 },
 "nbformat": 4,
 "nbformat_minor": 5
}
