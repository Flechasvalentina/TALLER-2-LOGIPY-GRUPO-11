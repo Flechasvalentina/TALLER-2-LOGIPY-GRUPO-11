# Taller 2 - LogiPy Grupo 11
# Integrantes: Valentina Flechas, Gabriela Eslava, Giselle Coll

import sqlite3

# -----------------------------
# Clase base: Envío
# -----------------------------
class Envio:
    def __init__(self, origen, destino, peso, distancia):
        self.origen = origen
        self.destino = destino
        self.peso = peso
        self.distancia = distancia

    def calcular_costo(self):
        return self.peso * self.distancia * 0.05

    def mostrar_info(self):
        print(f"Origen: {self.origen}")
        print(f"Destino: {self.destino}")
        print(f"Peso: {self.peso} kg")
        print(f"Distancia: {self.distancia} km")

# -----------------------------
# Subclases (Herencia)
# -----------------------------
class EnvioExpress(Envio):
    def calcular_costo(self):
        return super().calcular_costo() * 1.5  # 50% más caro por rapidez

class EnvioEconomico(Envio):
    def calcular_costo(self):
        return super().calcular_costo() * 0.8  # 20% más barato

# -----------------------------
# Clase Gestor de Cotizaciones
# -----------------------------
class GestorLogiPy:
    def __init__(self, db_name="logipy.db"):
        self.conn = sqlite3.connect(db_name)
        self.cursor = self.conn.cursor()
        self.crear_tabla()

    def crear_tabla(self):
        self.cursor.execute("""
            CREATE TABLE IF NOT EXISTS cotizaciones (
                id INTEGER PRIMARY KEY AUTOINCREMENT,
                origen TEXT,
                destino TEXT,
                tipo_envio TEXT,
                peso REAL,
                distancia REAL,
                costo REAL
            )
        """)
        self.conn.commit()

    def guardar_cotizacion(self, envio, tipo_envio):
        costo = envio.calcular_costo()
        self.cursor.execute("""
            INSERT INTO cotizaciones (origen, destino, tipo_envio, peso, distancia, costo)
            VALUES (?, ?, ?, ?, ?, ?)
        """, (envio.origen, envio.destino, tipo_envio, envio.peso, envio.distancia, costo))
        self.conn.commit()

    def mostrar_cotizaciones(self):
        print("\n📦 Cotizaciones registradas:")
        for fila in self.cursor.execute("SELECT * FROM cotizaciones"):
            print(fila)

# -----------------------------
# Programa principal
# -----------------------------
if __name__ == "__main__":
    gestor = GestorLogiPy()

    envio1 = EnvioExpress("Bogotá", "Medellín", 10, 400)
    envio2 = EnvioEconomico("Cali", "Barranquilla", 20, 800)

    print("🧾 Cotización 1:")
    envio1.mostrar_info()
    print(f"Costo total: ${envio1.calcular_costo():,.2f}\n")

    print("🧾 Cotización 2:")
    envio2.mostrar_info()
    print(f"Costo total: ${envio2.calcular_costo():,.2f}\n")

    gestor.guardar_cotizacion(envio1, "Express")
    gestor.guardar_cotizacion(envio2, "Económico")

    gestor.mostrar_cotizaciones()
